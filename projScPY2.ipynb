{
 "cells": [
  {
   "cell_type": "markdown",
   "metadata": {},
   "source": [
    "Example of using [scipy.integrate.solve_ivp](https://docs.scipy.org/doc/scipy/reference/generated/scipy.integrate.solve_ivp.html) to integrate a series of ordinary DEQs"
   ]
  },
  {
   "cell_type": "code",
   "execution_count": 1,
   "metadata": {},
   "outputs": [],
   "source": [
    "from scipy.integrate import solve_ivp\n",
    "import numpy as np\n",
    "from math import sqrt"
   ]
  },
  {
   "cell_type": "code",
   "execution_count": 2,
   "metadata": {},
   "outputs": [],
   "source": [
    "# the series of ODE's is incorporated in to a single function\n",
    "# y: array-like set of dependent parameters\n",
    "# t: the independent parameter, also array-like to return solutions at an arbitrary number of points\n",
    "def func(t, y, m, air_k):\n",
    "    g = 9.81\n",
    "#    m = params[0]\n",
    "#    air_k = params[1]\n",
    "    v = sqrt(y[1]*y[1] + y[3]*y[3])\n",
    "    f0 = y[1]                          # f_ri\n",
    "    f1 = -air_k * v * y[1] / m         # f_vi\n",
    "    f2 = y[3]                          # f_rj\n",
    "    f3 = -air_k * v * y[3] / m - g     # f_vj\n",
    "    return [f0,f1,f2,f3]\n",
    "\n",
    "# this function defines a stopping condition\n",
    "# it's interface must match the function\n",
    "def hit_ground(t, y, m, air_k):\n",
    "    return y[2]\n",
    "hit_ground.terminal = True\n",
    "hit_ground.direction = -1  # direction of travel whn satisfying the zero crossing condition"
   ]
  },
  {
   "cell_type": "code",
   "execution_count": 3,
   "metadata": {},
   "outputs": [
    {
     "name": "stdout",
     "output_type": "stream",
     "text": [
      "A termination event occurred.\n"
     ]
    }
   ],
   "source": [
    "#starting coordinates\n",
    "y0=[0,10,0,10]   # x=0, vx=10 m/s, y=0, vy=10 m/s\n",
    "\n",
    "# m, air_k specified as parameters and passed to the function\n",
    "params=(1.0, 0.12)\n",
    "\n",
    "# solve for trajectory from t=0 to 1.6 seconds, in 200 steps\n",
    "t = np.linspace(0,1.6,200)\n",
    "sol = solve_ivp(func, [0,1.6], y0, t_eval=t, events=[hit_ground], args=params)\n",
    "print(sol.message)"
   ]
  },
  {
   "cell_type": "markdown",
   "metadata": {},
   "source": [
    "The solution is returned as a [scipy.integrate.OdeSolution](https://docs.scipy.org/doc/scipy/reference/generated/scipy.integrate.OdeSolution.html) object.  You'll need to explore the structure of this object to understand its structure.\n",
    "\n",
    "```\n",
    ">>> dir(sol)\n",
    "\n",
    "['message',\n",
    " 'nfev',\n",
    " 'njev',\n",
    " 'nlu',\n",
    " 'sol',\n",
    " 'status',\n",
    " 'success',\n",
    " 't',\n",
    " 't_events',\n",
    " 'y',\n",
    " 'y_events']\n",
    "```"
   ]
  },
  {
   "cell_type": "code",
   "execution_count": 4,
   "metadata": {},
   "outputs": [
    {
     "name": "stdout",
     "output_type": "stream",
     "text": [
      "Hitting ground at t = 1.504 seconds\n"
     ]
    }
   ],
   "source": [
    "# time of first instance of first event\n",
    "print(f\"Hitting ground at t = {sol.t_events[0][0]:.3f} seconds\")\n",
    "\n",
    "# 2D array of y_values at evaluation points\n",
    "yf=sol.y\n",
    "# times of evalyation points, notice that this is tructacted compared to our original t array\n",
    "t=sol.t  "
   ]
  },
  {
   "cell_type": "code",
   "execution_count": 5,
   "metadata": {},
   "outputs": [
    {
     "data": {
      "image/png": "[encoded data removed]",
      "text/plain": [
       "<Figure size 432x288 with 2 Axes>"
      ]
     },
     "metadata": {
      "needs_background": "light"
     },
     "output_type": "display_data"
    }
   ],
   "source": [
    "from matplotlib import pyplot as plt\n",
    "\n",
    "x=np.array(yf[0])\n",
    "vx=np.array(yf[1])\n",
    "y=np.array(yf[2])\n",
    "vy=np.array(yf[ 3])\n",
    "ke = 0.5 * params[0] * (vx*vx+vy*vy)\n",
    "\n",
    "plt.subplot(1, 2, 1)\n",
    "plt.plot(x,y,'-')\n",
    "plt.xlabel('x values [m]')\n",
    "plt.ylabel('y values [m]')\n",
    "plt.title('y vs x')\n",
    "\n",
    "plt.subplot(1, 2, 2)\n",
    "plt.plot(t,ke,'-')\n",
    "plt.xlabel('time [s]')\n",
    "plt.ylabel('KE [J]')\n",
    "plt.title('KE vs t')\n",
    "\n",
    "plt.tight_layout() \n",
    "plt.show()"
   ]
  },
  {
   "cell_type": "code",
   "execution_count": null,
   "metadata": {},
   "outputs": [],
   "source": []
  }
 ],
 "metadata": {
  "kernelspec": {
   "display_name": "Python 3 (ipykernel)",
   "language": "python",
   "name": "python3"
  },
  "language_info": {
   "codemirror_mode": {
    "name": "ipython",
    "version": 3
   },
   "file_extension": ".py",
   "mimetype": "text/x-python",
   "name": "python",
   "nbconvert_exporter": "python",
   "pygments_lexer": "ipython3",
   "version": "3.9.13"
  }
 },
 "nbformat": 4,
 "nbformat_minor": 4
}
